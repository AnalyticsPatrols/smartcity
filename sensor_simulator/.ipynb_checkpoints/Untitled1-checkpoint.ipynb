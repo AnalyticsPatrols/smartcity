{
 "cells": [
  {
   "cell_type": "code",
   "execution_count": 1,
   "metadata": {},
   "outputs": [],
   "source": [
    "import time\n",
    "import random\n",
    "import pandas as pd\n",
    "import requests\n",
    "import json"
   ]
  },
  {
   "cell_type": "code",
   "execution_count": 2,
   "metadata": {},
   "outputs": [],
   "source": [
    "maxyear=2020\n",
    "minyear=2000\n",
    "reg=['Central','Eastern']\n",
    "typ='Residential'\n",
    "maxelec=1000000000\n",
    "minelec=100000000\n"
   ]
  },
  {
   "cell_type": "code",
   "execution_count": 17,
   "metadata": {},
   "outputs": [],
   "source": [
    "url=\"http://127.0.0.1:9090/stream\"\n",
    "headers={'content-type': 'application/json'}\n",
    "payload={'data':dat}\n"
   ]
  },
  {
   "cell_type": "code",
   "execution_count": 21,
   "metadata": {},
   "outputs": [
    {
     "name": "stdout",
     "output_type": "stream",
     "text": [
      "{'Content-Type': 'text/html', 'Content-Length': '291', 'Server': 'Werkzeug/0.14.1 Python/3.6.5', 'Date': 'Wed, 13 Mar 2019 10:01:17 GMT'}\n",
      "{'Content-Type': 'text/html', 'Content-Length': '291', 'Server': 'Werkzeug/0.14.1 Python/3.6.5', 'Date': 'Wed, 13 Mar 2019 10:01:18 GMT'}\n",
      "{'Content-Type': 'text/html', 'Content-Length': '291', 'Server': 'Werkzeug/0.14.1 Python/3.6.5', 'Date': 'Wed, 13 Mar 2019 10:01:19 GMT'}\n",
      "{'Content-Type': 'text/html', 'Content-Length': '291', 'Server': 'Werkzeug/0.14.1 Python/3.6.5', 'Date': 'Wed, 13 Mar 2019 10:01:20 GMT'}\n",
      "{'Content-Type': 'text/html', 'Content-Length': '291', 'Server': 'Werkzeug/0.14.1 Python/3.6.5', 'Date': 'Wed, 13 Mar 2019 10:01:21 GMT'}\n",
      "{'Content-Type': 'text/html', 'Content-Length': '291', 'Server': 'Werkzeug/0.14.1 Python/3.6.5', 'Date': 'Wed, 13 Mar 2019 10:01:22 GMT'}\n",
      "{'Content-Type': 'text/html', 'Content-Length': '291', 'Server': 'Werkzeug/0.14.1 Python/3.6.5', 'Date': 'Wed, 13 Mar 2019 10:01:23 GMT'}\n",
      "{'Content-Type': 'text/html', 'Content-Length': '291', 'Server': 'Werkzeug/0.14.1 Python/3.6.5', 'Date': 'Wed, 13 Mar 2019 10:01:24 GMT'}\n",
      "{'Content-Type': 'text/html', 'Content-Length': '291', 'Server': 'Werkzeug/0.14.1 Python/3.6.5', 'Date': 'Wed, 13 Mar 2019 10:01:25 GMT'}\n",
      "{'Content-Type': 'text/html', 'Content-Length': '291', 'Server': 'Werkzeug/0.14.1 Python/3.6.5', 'Date': 'Wed, 13 Mar 2019 10:01:26 GMT'}\n",
      "{'Content-Type': 'text/html', 'Content-Length': '291', 'Server': 'Werkzeug/0.14.1 Python/3.6.5', 'Date': 'Wed, 13 Mar 2019 10:01:27 GMT'}\n",
      "{'Content-Type': 'text/html', 'Content-Length': '291', 'Server': 'Werkzeug/0.14.1 Python/3.6.5', 'Date': 'Wed, 13 Mar 2019 10:01:28 GMT'}\n"
     ]
    },
    {
     "ename": "KeyboardInterrupt",
     "evalue": "",
     "output_type": "error",
     "traceback": [
      "\u001b[1;31m---------------------------------------------------------------------------\u001b[0m",
      "\u001b[1;31mKeyboardInterrupt\u001b[0m                         Traceback (most recent call last)",
      "\u001b[1;32m<ipython-input-21-4731679c1d21>\u001b[0m in \u001b[0;36m<module>\u001b[1;34m()\u001b[0m\n\u001b[0;32m      7\u001b[0m     \u001b[0mr\u001b[0m \u001b[1;33m=\u001b[0m \u001b[0mrequests\u001b[0m\u001b[1;33m.\u001b[0m\u001b[0mpost\u001b[0m\u001b[1;33m(\u001b[0m\u001b[0murl\u001b[0m\u001b[1;33m,\u001b[0m\u001b[0mjson\u001b[0m\u001b[1;33m=\u001b[0m\u001b[0mpayload\u001b[0m\u001b[1;33m)\u001b[0m\u001b[1;33m\u001b[0m\u001b[0m\n\u001b[0;32m      8\u001b[0m     \u001b[0mprint\u001b[0m\u001b[1;33m(\u001b[0m\u001b[0mr\u001b[0m\u001b[1;33m.\u001b[0m\u001b[0mheaders\u001b[0m\u001b[1;33m)\u001b[0m\u001b[1;33m\u001b[0m\u001b[0m\n\u001b[1;32m----> 9\u001b[1;33m     \u001b[0mtime\u001b[0m\u001b[1;33m.\u001b[0m\u001b[0msleep\u001b[0m\u001b[1;33m(\u001b[0m\u001b[1;36m1\u001b[0m\u001b[1;33m)\u001b[0m\u001b[1;33m\u001b[0m\u001b[0m\n\u001b[0m",
      "\u001b[1;31mKeyboardInterrupt\u001b[0m: "
     ]
    }
   ],
   "source": [
    "while True:\n",
    "    year= int(random.uniform(maxyear,minyear))\n",
    "    regnum= int(random.uniform(0,len(reg)))\n",
    "    elec= round(random.uniform(maxelec,minelec),3)\n",
    "    dat= \"\" +str(year) + \";\" + str(reg[regnum]) + \";\" + str(typ) + \";\" + str(elec)\n",
    "    payload={'data':dat}\n",
    "    r = requests.get(url,params=payload)\n",
    "    print(r.headers)\n",
    "    time.sleep(1)"
   ]
  },
  {
   "cell_type": "markdown",
   "metadata": {},
   "source": []
  },
  {
   "cell_type": "code",
   "execution_count": null,
   "metadata": {},
   "outputs": [],
   "source": []
  }
 ],
 "metadata": {
  "kernelspec": {
   "display_name": "Python 3",
   "language": "python",
   "name": "python3"
  },
  "language_info": {
   "codemirror_mode": {
    "name": "ipython",
    "version": 3
   },
   "file_extension": ".py",
   "mimetype": "text/x-python",
   "name": "python",
   "nbconvert_exporter": "python",
   "pygments_lexer": "ipython3",
   "version": "3.6.5"
  }
 },
 "nbformat": 4,
 "nbformat_minor": 2
}
